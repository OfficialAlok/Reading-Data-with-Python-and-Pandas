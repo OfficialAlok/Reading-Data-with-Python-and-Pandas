{
  "cells": [
    {
      "cell_type": "markdown",
      "metadata": {
        "id": "W7aUSN3PTohF"
      },
      "source": [
        "![rmotr](https://user-images.githubusercontent.com/7065401/52071918-bda15380-2562-11e9-828c-7f95297e4a82.png)\n",
        "<hr style=\"margin-bottom: 40px;\">\n",
        "\n",
        "<img src=\"https://user-images.githubusercontent.com/7065401/68501079-0695df00-023c-11ea-841f-455dac84a089.jpg\" width=400></img>\n",
        "\n",
        "# Fetching data from a REST API\n",
        "\n",
        "In this lecture we'll learn how to fetch data from a REST API, parse the response and put it into a pandas `DataFrame`."
      ]
    },
    {
      "cell_type": "markdown",
      "metadata": {
        "id": "Bwo3tKy7TohH"
      },
      "source": [
        "![purple-divider](https://user-images.githubusercontent.com/7065401/52071927-c1cd7100-2562-11e9-908a-dde91ba14e59.png)\n",
        "\n",
        "## Hands on!"
      ]
    },
    {
      "cell_type": "code",
      "execution_count": 1,
      "metadata": {
        "id": "IgmWSZ6NTohH"
      },
      "outputs": [],
      "source": [
        "import pandas as pd"
      ]
    },
    {
      "cell_type": "markdown",
      "metadata": {
        "id": "11W2OPutTohI"
      },
      "source": [
        "![green-divider](https://user-images.githubusercontent.com/7065401/52071924-c003ad80-2562-11e9-8297-1c6595f8a7ff.png)\n",
        "\n",
        "## Reading API response\n",
        "\n",
        "We'll read a response from the ([CityBike API](http://api.citybik.es/v2/networks)), serialize it to JSON format and put it in a Pandas dataframe.\n",
        "\n",
        "To do that the first thing we need to do is import `requests` module and use it to make a GET request to the defined `api_url`."
      ]
    },
    {
      "cell_type": "code",
      "execution_count": 2,
      "metadata": {
        "id": "phKiLCvVTohI"
      },
      "outputs": [],
      "source": [
        "import requests\n",
        "\n",
        "api_url = \"http://api.citybik.es/v2/networks\""
      ]
    },
    {
      "cell_type": "code",
      "execution_count": 3,
      "metadata": {
        "id": "6FtXg8MUTohI"
      },
      "outputs": [],
      "source": [
        "req = requests.get(api_url)"
      ]
    },
    {
      "cell_type": "code",
      "execution_count": null,
      "metadata": {
        "id": "2-fBfmJITohJ"
      },
      "outputs": [],
      "source": [
        "req"
      ]
    },
    {
      "cell_type": "code",
      "execution_count": null,
      "metadata": {
        "id": "ogyUZ-OwTohK"
      },
      "outputs": [],
      "source": [
        "req.ok"
      ]
    },
    {
      "cell_type": "code",
      "execution_count": null,
      "metadata": {
        "id": "fhoDj9gtTohK"
      },
      "outputs": [],
      "source": [
        "req.status_code"
      ]
    },
    {
      "cell_type": "code",
      "execution_count": null,
      "metadata": {
        "id": "PRtIXaNTTohL"
      },
      "outputs": [],
      "source": [
        "req.text"
      ]
    },
    {
      "cell_type": "markdown",
      "metadata": {
        "id": "993Nnyf9TohL"
      },
      "source": [
        "The data from CityBike API is returned using JSON format, we can try using the `read_json` method we saw on previous lecture.\n",
        "\n",
        "But as the API response has nested elements, this raw `read_json` method will not be enough."
      ]
    },
    {
      "cell_type": "code",
      "execution_count": null,
      "metadata": {
        "scrolled": true,
        "id": "yi2_g_tlTohL"
      },
      "outputs": [],
      "source": [
        "pd.read_json(req.text).head()"
      ]
    },
    {
      "cell_type": "markdown",
      "metadata": {
        "id": "kHahlWevTohM"
      },
      "source": [
        "The `request` object has a `json()` method to serialize response into JSON content."
      ]
    },
    {
      "cell_type": "code",
      "execution_count": null,
      "metadata": {
        "id": "JpSn2svnTohM"
      },
      "outputs": [],
      "source": [
        "json_dict = req.json()"
      ]
    },
    {
      "cell_type": "code",
      "execution_count": null,
      "metadata": {
        "id": "Hv32q87zTohM"
      },
      "outputs": [],
      "source": [
        "json_dict"
      ]
    },
    {
      "cell_type": "code",
      "execution_count": null,
      "metadata": {
        "id": "QxtupUq2TohM"
      },
      "outputs": [],
      "source": [
        "json_dict['networks']"
      ]
    },
    {
      "cell_type": "code",
      "execution_count": null,
      "metadata": {
        "id": "aAitd-xWTohM"
      },
      "outputs": [],
      "source": [
        "citybikes = pd.DataFrame.from_dict(json_dict['networks'])"
      ]
    },
    {
      "cell_type": "code",
      "execution_count": null,
      "metadata": {
        "scrolled": false,
        "id": "-yzDBeXtTohN"
      },
      "outputs": [],
      "source": [
        "citybikes.head()"
      ]
    },
    {
      "cell_type": "markdown",
      "metadata": {
        "id": "08Y-8NFOTohN"
      },
      "source": [
        "![green-divider](https://user-images.githubusercontent.com/7065401/52071924-c003ad80-2562-11e9-8297-1c6595f8a7ff.png)\n",
        "\n",
        "## Unpacking columns\n",
        "\n",
        "We can unpack `location` column using `json_normalize` as we saw on previous lecture."
      ]
    },
    {
      "cell_type": "code",
      "execution_count": null,
      "metadata": {
        "id": "ymVzinIvTohN"
      },
      "outputs": [],
      "source": [
        "from pandas.io.json import json_normalize"
      ]
    },
    {
      "cell_type": "code",
      "execution_count": null,
      "metadata": {
        "id": "j69WxpJbTohN"
      },
      "outputs": [],
      "source": [
        "citybikes_unpacked = json_normalize(json_dict['networks'],\n",
        "                                    sep='_')"
      ]
    },
    {
      "cell_type": "code",
      "execution_count": null,
      "metadata": {
        "scrolled": true,
        "id": "b0aM5XeITohN"
      },
      "outputs": [],
      "source": [
        "citybikes_unpacked.head()"
      ]
    },
    {
      "cell_type": "markdown",
      "metadata": {
        "id": "aFTa4_aHTohN"
      },
      "source": [
        "![green-divider](https://user-images.githubusercontent.com/7065401/52071924-c003ad80-2562-11e9-8297-1c6595f8a7ff.png)\n",
        "\n",
        "## Save to JSON file\n",
        "\n",
        "Now we have the REST API response on a `DataFrame`, we can save it as a JSON file."
      ]
    },
    {
      "cell_type": "code",
      "execution_count": null,
      "metadata": {
        "scrolled": true,
        "id": "LB1zeAcITohN"
      },
      "outputs": [],
      "source": [
        "citybikes_unpacked.head()"
      ]
    },
    {
      "cell_type": "code",
      "execution_count": null,
      "metadata": {
        "id": "Dm2E7PXqTohO"
      },
      "outputs": [],
      "source": [
        "citybikes_unpacked.to_json('out.json')"
      ]
    },
    {
      "cell_type": "code",
      "execution_count": null,
      "metadata": {
        "scrolled": false,
        "id": "ibJGZaQ3TohO"
      },
      "outputs": [],
      "source": [
        "pd.read_json('out.json').head()"
      ]
    },
    {
      "cell_type": "markdown",
      "metadata": {
        "id": "KhPnRuiSTohO"
      },
      "source": [
        "![green-divider](https://user-images.githubusercontent.com/7065401/52071924-c003ad80-2562-11e9-8297-1c6595f8a7ff.png)\n",
        "\n",
        "## More on data fetching\n",
        "\n",
        "Another example using <b>Cryptowatch API</b> can be found in [this post](https://notebooks.ai/santiagobasulto/crypto-analysis-using-python-and-cryptowatch-api-79e06f1f)."
      ]
    },
    {
      "cell_type": "markdown",
      "metadata": {
        "id": "5K8Gl44iTohO"
      },
      "source": [
        "![green-divider](https://user-images.githubusercontent.com/7065401/52071924-c003ad80-2562-11e9-8297-1c6595f8a7ff.png)\n",
        "\n",
        "## Reading an authenticated URL\n",
        "\n",
        "To demonstrate authentication, we can use http://httpbin.org"
      ]
    },
    {
      "cell_type": "code",
      "execution_count": null,
      "metadata": {
        "id": "PBfkd-SKTohO"
      },
      "outputs": [],
      "source": [
        "r = requests.get('https://httpbin.org/basic-auth/myuser/mypasswd')"
      ]
    },
    {
      "cell_type": "code",
      "execution_count": null,
      "metadata": {
        "id": "rjBBDBfnTohO"
      },
      "outputs": [],
      "source": [
        "r.status_code"
      ]
    },
    {
      "cell_type": "code",
      "execution_count": null,
      "metadata": {
        "id": "cVW_V772TohO"
      },
      "outputs": [],
      "source": [
        "r = requests.get('https://httpbin.org/basic-auth/myuser/mypasswd',\n",
        "                 auth=('myuser', 'mypasswd'))"
      ]
    },
    {
      "cell_type": "code",
      "execution_count": null,
      "metadata": {
        "id": "yvi30sdWTohO"
      },
      "outputs": [],
      "source": [
        "r.status_code"
      ]
    },
    {
      "cell_type": "code",
      "execution_count": null,
      "metadata": {
        "scrolled": true,
        "id": "8hEFoWaITohP"
      },
      "outputs": [],
      "source": [
        "r.json()"
      ]
    },
    {
      "cell_type": "markdown",
      "metadata": {
        "id": "KRrvbQ59TohP"
      },
      "source": [
        "![purple-divider](https://user-images.githubusercontent.com/7065401/52071927-c1cd7100-2562-11e9-908a-dde91ba14e59.png)"
      ]
    }
  ],
  "metadata": {
    "kernelspec": {
      "display_name": "Python 3",
      "language": "python",
      "name": "python3"
    },
    "language_info": {
      "codemirror_mode": {
        "name": "ipython",
        "version": 3
      },
      "file_extension": ".py",
      "mimetype": "text/x-python",
      "name": "python",
      "nbconvert_exporter": "python",
      "pygments_lexer": "ipython3",
      "version": "3.6.5"
    },
    "colab": {
      "provenance": []
    }
  },
  "nbformat": 4,
  "nbformat_minor": 0
}